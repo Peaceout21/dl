{
 "cells": [
  {
   "cell_type": "code",
   "execution_count": 2,
   "metadata": {},
   "outputs": [],
   "source": [
    "# -*- coding: utf-8 -*-\n",
    "\"\"\"\n",
    "Created on Tue Mar  6 18:35:20 2018\n",
    "Supervised text based heirarchical classification for dresses styles using product description\n",
    "@author: Arjun ; Project: Shopin\n",
    "\"\"\"\n",
    "import pandas as pd\n",
    "import numpy as np\n",
    "import re\n",
    "from nltk import word_tokenize\n",
    "from nltk.corpus import stopwords\n",
    "from sklearn.feature_extraction.text import TfidfVectorizer\n",
    "from sklearn.pipeline import Pipeline\n",
    "from sklearn.model_selection import train_test_split\n",
    "from sklearn.feature_selection import SelectKBest , chi2\n",
    "from sklearn.svm import LinearSVC\n",
    "from sklearn.feature_extraction.text import CountVectorizer\n",
    "from random import seed\n",
    "from sklearn.metrics import confusion_matrix\n",
    "import matplotlib.pyplot as plt\n",
    "import itertools\n",
    "from sklearn.metrics import average_precision_score\n",
    "%matplotlib inline"
   ]
  },
  {
   "cell_type": "code",
   "execution_count": 3,
   "metadata": {},
   "outputs": [],
   "source": [
    "dress_data=pd.read_csv('Dress.csv')\n",
    "#### Keep only useful columns which is style and column name  ####\n",
    "#dress_data=dress_data[['style','details']]\n",
    "dress_data=dress_data[['style','details','product_mini_des']]\n",
    "#style_to_keep=['a-line','evening gown','sheath','shift','off-the-shoulder',\t'fit and flare','column gown','bodycon','jumpsuits','ball gown']\n",
    "#style_to_keep=['a-line','evening gown','sheath']\n",
    "style_to_keep=['off-the-shoulder','fit and flare','column gown','bodycon','jumpsuits','ball gown']\n",
    "dress_data=dress_data[ dress_data['style'].isin(style_to_keep)]"
   ]
  },
  {
   "cell_type": "code",
   "execution_count": 4,
   "metadata": {},
   "outputs": [
    {
     "data": {
      "text/plain": [
       "array(['column gown', 'fit and flare', 'jumpsuits', 'ball gown',\n",
       "       'bodycon', 'off-the-shoulder'], dtype=object)"
      ]
     },
     "execution_count": 4,
     "metadata": {},
     "output_type": "execute_result"
    }
   ],
   "source": [
    "dress_data['style'].unique()"
   ]
  },
  {
   "cell_type": "code",
   "execution_count": 6,
   "metadata": {},
   "outputs": [],
   "source": [
    "stop=list(stopwords.words('english'))\n",
    "\n",
    "def REMOVE_NON_ALPHA(Input_product_detail):\n",
    "    clean_part1=re.sub('[^a-zA-Z]+', ' ', Input_product_detail)\n",
    "    return clean_part1\n",
    "dress_data['clean1']=dress_data.details.apply(REMOVE_NON_ALPHA)    \n",
    "\n",
    "def RM_STOPWORDS(dataframe,column_of_operation):\n",
    "    for row_num,text in enumerate(dataframe[column_of_operation]):\n",
    "        word_token = word_tokenize(text)\n",
    "        temp_text = []\n",
    "        for word_tag in word_token:\n",
    "            if word_tag  not in stop:\n",
    "                temp_text.append(word_tag.lower())\n",
    "                sent_mod = \" \".join(temp_text)     \n",
    "    \n",
    "        dataframe.loc[row_num,\"RMV_STP\"] = sent_mod\n",
    "       \n",
    "    return dataframe['RMV_STP']\n",
    "\n",
    "#RM_STOPWORDS(dataframe=dress_data,column_of_operation='clean1')\n",
    "#dress_data.dropna(axis=0,inplace=True)"
   ]
  },
  {
   "cell_type": "code",
   "execution_count": 7,
   "metadata": {},
   "outputs": [],
   "source": [
    "dress_data['style'].unique()\n",
    "X_train,X_test,y_train,y_test=train_test_split(dress_data['clean1'],dress_data['style'],test_size=0.2) "
   ]
  },
  {
   "cell_type": "code",
   "execution_count": 20,
   "metadata": {},
   "outputs": [
    {
     "name": "stdout",
     "output_type": "stream",
     "text": [
      "Test accuracy score : 0.7251585623678647\n",
      "Train accuracy score : 0.7656084656084656\n"
     ]
    }
   ],
   "source": [
    "       \n",
    "\"\"\" Use SVM for classification and 5k iterations \"\"\"\n",
    "\"\"\"\n",
    "Use Linear Kernel and a l1 regularisation \n",
    "Keep top 100 features and use max 5k iters\n",
    "\"\"\"\n",
    "pipeline=Pipeline([('vect',CountVectorizer(ngram_range=[1,1],stop_words='english')),\n",
    "                  ('chi',SelectKBest(chi2,k=100)),\n",
    "                  ('clf',LinearSVC(C=1.0,penalty='l1',dual=False))])\n",
    "    \n",
    "\n",
    "model=pipeline.fit(X_train,y_train)\n",
    "\n",
    "vectorizer=model.named_steps['vect']\n",
    "chi=model.named_steps['chi']\n",
    "clf=model.named_steps['clf']\n",
    "feature_names=vectorizer.get_feature_names()\n",
    "feature_names=[feature_names[i] for i in chi.get_support(indices=True) ]\n",
    "feature_names=np.asarray(feature_names)\n",
    "\n",
    "print(\"Test accuracy score : \" + str(model.score(X_test,y_test)))\n",
    "print(\"Train accuracy score : \" + str(model.score(X_train,y_train)))\n"
   ]
  },
  {
   "cell_type": "code",
   "execution_count": 21,
   "metadata": {},
   "outputs": [
    {
     "data": {
      "text/plain": [
       "array([[18,  0, 20,  5,  0,  3],\n",
       "       [ 0, 45,  1, 20,  0, 10],\n",
       "       [ 6,  4, 71,  4,  0,  6],\n",
       "       [ 2, 13,  4, 73,  0,  7],\n",
       "       [ 0,  0,  0,  3, 59,  0],\n",
       "       [ 2,  5,  6,  9,  0, 77]], dtype=int64)"
      ]
     },
     "execution_count": 21,
     "metadata": {},
     "output_type": "execute_result"
    }
   ],
   "source": [
    "pred = model.predict(X_test)\n",
    "cm=confusion_matrix(y_test.values,pred)\n",
    "cm"
   ]
  },
  {
   "cell_type": "code",
   "execution_count": 8,
   "metadata": {},
   "outputs": [
    {
     "name": "stdout",
     "output_type": "stream",
     "text": [
      "a-line a-line Roundneck Cap sleeves Pullover style About from shoulder to hem Silk elastane Dry clean Made in USA Model shown is cm wearing US size Small \n"
     ]
    }
   ],
   "source": [
    "print(pred[1],y_test.values[1],X_test.values[1])"
   ]
  },
  {
   "cell_type": "code",
   "execution_count": 9,
   "metadata": {},
   "outputs": [],
   "source": [
    "def plot_confusion_matrix(cm, classes,normalize=False,title='Confusion matrix',cmap=plt.cm.Blues):\n",
    "    \"\"\"\n",
    "   This function prints and plots the confusion matrix.\n",
    "   Normalization can be applied by setting `normalize=True`.\n",
    "    \"\"\"\n",
    "    if normalize:\n",
    "        cm = cm.astype('float') / cm.sum(axis=1)[:, np.newaxis]\n",
    "        print(\"Normalized confusion matrix\")\n",
    "    else:\n",
    "        print('Confusion matrix, without normalization')\n",
    "    plt.imshow(cm, interpolation='nearest', cmap=cmap)\n",
    "    plt.title(title)\n",
    "    plt.colorbar()\n",
    "    tick_marks = np.arange(len(classes))\n",
    "    plt.xticks(tick_marks, classes, rotation=45)\n",
    "    plt.yticks(tick_marks, classes)\n",
    "    fmt = '.2f' if normalize else 'd'\n",
    "    thresh = cm.max() / 2.\n",
    "    for i, j in itertools.product(range(cm.shape[0]), range(cm.shape[1])):\n",
    "        plt.text(j, i, format(cm[i, j], fmt),horizontalalignment=\"center\",color=\"white\" if cm[i, j] > thresh else \"black\")\n",
    "    plt.tight_layout()\n",
    "    plt.ylabel('True label')\n",
    "    plt.xlabel('Predicted label')"
   ]
  },
  {
   "cell_type": "markdown",
   "metadata": {},
   "source": [
    "# A line, sheath and evening gown"
   ]
  },
  {
   "cell_type": "code",
   "execution_count": 12,
   "metadata": {},
   "outputs": [
    {
     "name": "stdout",
     "output_type": "stream",
     "text": [
      "Confusion matrix, without normalization\n"
     ]
    },
    {
     "data": {
      "text/plain": [
       "0.7338501291989664"
      ]
     },
     "execution_count": 12,
     "metadata": {},
     "output_type": "execute_result"
    },
    {
     "data": {
      "image/png": "[encoded data removed]",
      "text/plain": [
       "<matplotlib.figure.Figure at 0x23ca2f03f60>"
      ]
     },
     "metadata": {},
     "output_type": "display_data"
    }
   ],
   "source": [
    "# 3 \n",
    "plot_confusion_matrix(cm,style_to_keep)\n",
    "284/(284+52+51)"
   ]
  },
  {
   "cell_type": "markdown",
   "metadata": {},
   "source": [
    "# Off shoulder to ball gown"
   ]
  },
  {
   "cell_type": "code",
   "execution_count": 23,
   "metadata": {},
   "outputs": [
    {
     "name": "stdout",
     "output_type": "stream",
     "text": [
      "Confusion matrix, without normalization\n"
     ]
    },
    {
     "data": {
      "image/png": "[encoded data removed]",
      "text/plain": [
       "<matplotlib.figure.Figure at 0x23ca2ecd898>"
      ]
     },
     "metadata": {},
     "output_type": "display_data"
    }
   ],
   "source": [
    "# 3 \n",
    "plot_confusion_matrix(cm,style_to_keep)"
   ]
  },
  {
   "cell_type": "code",
   "execution_count": 87,
   "metadata": {
    "collapsed": true
   },
   "outputs": [],
   "source": []
  },
  {
   "cell_type": "code",
   "execution_count": 24,
   "metadata": {},
   "outputs": [],
   "source": []
  }
 ],
 "metadata": {
  "kernelspec": {
   "display_name": "Python 3",
   "language": "python",
   "name": "python3"
  },
  "language_info": {
   "codemirror_mode": {
    "name": "ipython",
    "version": 3
   },
   "file_extension": ".py",
   "mimetype": "text/x-python",
   "name": "python",
   "nbconvert_exporter": "python",
   "pygments_lexer": "ipython3",
   "version": "3.6.4"
  }
 },
 "nbformat": 4,
 "nbformat_minor": 2
}
